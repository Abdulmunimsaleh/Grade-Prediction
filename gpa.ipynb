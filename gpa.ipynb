{
 "cells": [
  {
   "cell_type": "code",
   "execution_count": 6,
   "metadata": {},
   "outputs": [
    {
     "ename": "ModuleNotFoundError",
     "evalue": "No module named 'matplotlib'",
     "output_type": "error",
     "traceback": [
      "\u001b[0;31m---------------------------------------------------------------------------\u001b[0m",
      "\u001b[0;31mModuleNotFoundError\u001b[0m                       Traceback (most recent call last)",
      "Cell \u001b[0;32mIn[6], line 3\u001b[0m\n\u001b[1;32m      1\u001b[0m \u001b[38;5;28;01mimport\u001b[39;00m \u001b[38;5;21;01mnumpy\u001b[39;00m \u001b[38;5;28;01mas\u001b[39;00m \u001b[38;5;21;01mnp\u001b[39;00m\n\u001b[1;32m      2\u001b[0m \u001b[38;5;28;01mimport\u001b[39;00m \u001b[38;5;21;01mpandas\u001b[39;00m \u001b[38;5;28;01mas\u001b[39;00m \u001b[38;5;21;01mpd\u001b[39;00m\n\u001b[0;32m----> 3\u001b[0m \u001b[38;5;28;01mimport\u001b[39;00m \u001b[38;5;21;01mmatplotlib\u001b[39;00m\u001b[38;5;21;01m.\u001b[39;00m\u001b[38;5;21;01mpyplot\u001b[39;00m \u001b[38;5;28;01mas\u001b[39;00m \u001b[38;5;21;01mplt\u001b[39;00m\n\u001b[1;32m      4\u001b[0m \u001b[38;5;28;01mimport\u001b[39;00m \u001b[38;5;21;01mseaborn\u001b[39;00m \u001b[38;5;28;01mas\u001b[39;00m \u001b[38;5;21;01msns\u001b[39;00m\n\u001b[1;32m      6\u001b[0m \u001b[38;5;28;01mfrom\u001b[39;00m \u001b[38;5;21;01msklearn\u001b[39;00m\u001b[38;5;21;01m.\u001b[39;00m\u001b[38;5;21;01mmodel_selection\u001b[39;00m \u001b[38;5;28;01mimport\u001b[39;00m train_test_split\n",
      "\u001b[0;31mModuleNotFoundError\u001b[0m: No module named 'matplotlib'"
     ]
    }
   ],
   "source": [
    "import numpy as np\n",
    "import pandas as pd\n",
    "import matplotlib.pyplot as plt\n",
    "import seaborn as sns\n",
    "\n",
    "from sklearn.model_selection import train_test_split\n",
    "from sklearn import linear_model\n",
    "from sklearn.ensemble import GradientBoostingRegressor\n",
    "from sklearn.tree import DecisionTreeRegressor\n",
    "from sklearn.neighbors import KNeighborsRegressor\n",
    "\n",
    "from math import ceil\n",
    "from tabulate import tabulate\n",
    "from sklearn.model_selection import learning_curve\n",
    "from sklearn.model_selection import ShuffleSplit\n",
    "\n",
    "import warnings\n",
    "warnings.filterwarnings('ignore')\n",
    "\n",
    "try:\n",
    "    from ipywidgets import widgets\n",
    "    from ipywidgets import Button, HBox, VBox\n",
    "except ModuleNotFoundError:\n",
    "    !pip install ipywidgets"
   ]
  },
  {
   "cell_type": "code",
   "execution_count": null,
   "metadata": {},
   "outputs": [],
   "source": [
    "prediction_input = pd.DataFrame()"
   ]
  },
  {
   "cell_type": "code",
   "execution_count": null,
   "metadata": {},
   "outputs": [],
   "source": [
    "def display_menu(model, course_grades):\n",
    "    columns = course_grades\n",
    "    def btn_eventhandler(obj):\n",
    "        global prediction_input\n",
    "        del prediction_input\n",
    "        grade_points = []\n",
    "        for i in course_grades:\n",
    "            grade_points.append(i.value)\n",
    "        prediction_input = pd.DataFrame([grade_points], columns=columns)\n",
    "        prediction_input = encode_data(prediction_input)\n",
    "        print(\"The predicted CGPA is:\", model.predict(prediction_input))\n",
    "\n",
    "\n",
    "    grades = ['AA', 'BA', 'BB', 'CB', 'CC', 'DC', 'DD', 'FD', 'FF']\n",
    "\n",
    "    course_grades = []\n",
    "    for i in columns:\n",
    "        x = widgets.Dropdown(options=grades, description=i, value=None)\n",
    "        course_grades.append(x)\n",
    "\n",
    "    left_box, centre_box, right_box = [],[],[]\n",
    "\n",
    "    for i in range(ceil(len(course_grades)/3)):\n",
    "        left_box.append(course_grades[i*3])\n",
    "        if len(course_grades) > (i*3+1):\n",
    "            centre_box.append(course_grades[i*3+1])\n",
    "            if len(course_grades) > (i*3+2):\n",
    "                right_box.append(course_grades[i*3+2])\n",
    "\n",
    "    print(\"Please select grades from the dropdown list for the respective courses, if the student has not opted for that specific course\\n then simply leave it\")\n",
    "    display(HBox([VBox(left_box), VBox(centre_box), VBox(right_box)]))\n",
    "\n",
    "    btn = widgets.Button(description='Predict CGPA')\n",
    "    display(btn)\n",
    "\n",
    "    btn.on_click(btn_eventhandler)"
   ]
  },
  {
   "cell_type": "code",
   "execution_count": null,
   "metadata": {},
   "outputs": [],
   "source": [
    "print(\"=\"*124)\n",
    "print(\"\\t\\t\\t\\t\\t\\tWELCOME TO CGPA PREDICTOR\")\n",
    "print(\"=\"*124)\n",
    "print(\"\\t\\t\\tTHIS MODEL CAN PREDICT THE FINAL CGPA OF A STUDENT AT THE END OF FOURTH YEAR\\n \\t\\t\\t\\tGIVEN GPs OF THE COURSES OBTAINED IN FIRST THREE YEARS\")\n",
    "print(\"*\"*124)\n",
    "choice = int(input(\"Please select one of the following options:\\n\\\n",
    "    1. Predict CGPA based on GPs of First Year\\n\\\n",
    "    2. Predict CGPA based on GPs of First Two Years\\n\\\n",
    "    3. Predict CGPA based on GPs of First Three Years\\n\"))\n",
    "print(\"=\"*124)\n",
    "if choice == 1:\n",
    "    display_menu(reg1, first_year)\n",
    "elif choice == 2:\n",
    "    display_menu(grad2, first_two_years)\n",
    "elif choice == 3:\n",
    "    display_menu(grad3, first_three_years)\n",
    "else:\n",
    "    print(\"Please select valid choice\")"
   ]
  }
 ],
 "metadata": {
  "kernelspec": {
   "display_name": "Python 3",
   "language": "python",
   "name": "python3"
  },
  "language_info": {
   "codemirror_mode": {
    "name": "ipython",
    "version": 3
   },
   "file_extension": ".py",
   "mimetype": "text/x-python",
   "name": "python",
   "nbconvert_exporter": "python",
   "pygments_lexer": "ipython3",
   "version": "3.12.2"
  }
 },
 "nbformat": 4,
 "nbformat_minor": 2
}
